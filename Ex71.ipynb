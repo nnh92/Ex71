{
  "nbformat": 4,
  "nbformat_minor": 0,
  "metadata": {
    "colab": {
      "provenance": [],
      "authorship_tag": "ABX9TyN9xvdrHfPfLI73LpZ4WMX9",
      "include_colab_link": true
    },
    "kernelspec": {
      "name": "python3",
      "display_name": "Python 3"
    },
    "language_info": {
      "name": "python"
    }
  },
  "cells": [
    {
      "cell_type": "markdown",
      "metadata": {
        "id": "view-in-github",
        "colab_type": "text"
      },
      "source": [
        "<a href=\"https://colab.research.google.com/github/nnh92/Ex71/blob/main/Ex71.ipynb\" target=\"_parent\"><img src=\"https://colab.research.google.com/assets/colab-badge.svg\" alt=\"Open In Colab\"/></a>"
      ]
    },
    {
      "cell_type": "code",
      "execution_count": 27,
      "metadata": {
        "id": "1mPCKy9pmHue",
        "outputId": "a6459086-edb4-4b4c-949e-5ebef7ac109e",
        "colab": {
          "base_uri": "https://localhost:8080/"
        }
      },
      "outputs": [
        {
          "output_type": "stream",
          "name": "stdout",
          "text": [
            "Vuy577?(67\n",
            "57767: 5, Vuy: 3, ?(: 2\n"
          ]
        }
      ],
      "source": [
        "def Loc_DL(s):\n",
        "  lst_Num = ''\n",
        "  lst_Str = ''\n",
        "  lst_Sym = ''\n",
        "  for i in range(len(s)):\n",
        "    if s[i].isnumeric():\n",
        "      lst_Num += s[i]\n",
        "    elif s[i].isalpha():\n",
        "      lst_Str += s[i]\n",
        "    else:\n",
        "      lst_Sym += s[i]\n",
        "  return lst_Num, lst_Str, lst_Sym\n",
        "\n",
        "s = input()\n",
        "\n",
        "L = Loc_DL(s)\n",
        "\n",
        "print('{}: {}, {}: {}, {}: {}'.format(L[0], len(L[0]), L[1], len(L[1]), L[2], len(L[2])))\n",
        "\n",
        "\n",
        "\n",
        "\n",
        "\n",
        "\n"
      ]
    }
  ]
}